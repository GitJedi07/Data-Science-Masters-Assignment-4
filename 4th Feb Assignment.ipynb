{
 "cells": [
  {
   "cell_type": "markdown",
   "id": "5867bf0c-806c-48aa-bf2f-8cc264363b8c",
   "metadata": {},
   "source": [
    "# 4th Feb Assignment"
   ]
  },
  {
   "cell_type": "markdown",
   "id": "c01e55e1-2bca-4acb-b4f6-32d6da6fa2ef",
   "metadata": {
    "tags": []
   },
   "source": [
    "# 1 solution:"
   ]
  },
  {
   "cell_type": "code",
   "execution_count": 1,
   "id": "b7ba7067-2a8c-40f9-ac57-8e7e94aed369",
   "metadata": {},
   "outputs": [
    {
     "name": "stdout",
     "output_type": "stream",
     "text": [
      "[('Virat Kohli', 24936), ('Jack Kallis', 25534), ('Ricky Ponting', 27483), ('Sachin Tendulkar', 34357)]\n"
     ]
    }
   ],
   "source": [
    "# Program to sort the given list of tuples based on integer value using a lambda function:\n",
    "\n",
    "data = [('Sachin Tendulkar', 34357), ('Ricky Ponting', 27483), ('Jack Kallis', 25534), ('Virat Kohli', 24936)]\n",
    "\n",
    "# sort the list of tuples based on the second element of each tuple\n",
    "data.sort(key=lambda x: x[1])\n",
    "\n",
    "# print the sorted list of tuples\n",
    "print(data)"
   ]
  },
  {
   "cell_type": "markdown",
   "id": "3020c8e6-8b3b-4e2b-b5e4-fe7cfb84d275",
   "metadata": {},
   "source": [
    "# 2 solution:"
   ]
  },
  {
   "cell_type": "code",
   "execution_count": 2,
   "id": "69da4f87-decc-408e-8f90-1b6d9268e1d9",
   "metadata": {},
   "outputs": [
    {
     "data": {
      "text/plain": [
       "[1, 4, 9, 16, 25, 36, 49, 64, 81, 100]"
      ]
     },
     "execution_count": 2,
     "metadata": {},
     "output_type": "execute_result"
    }
   ],
   "source": [
    "# Program to find the squares of all the numbers in the given list of integers using lambda and map functions:\n",
    "\n",
    "lst1 = [1,2,3,4,5,6,7,8,9,10]\n",
    "\n",
    "list(map(lambda x: x**2, lst1))"
   ]
  },
  {
   "cell_type": "markdown",
   "id": "add1d72d-66c9-4279-8f09-cdad7d2adba9",
   "metadata": {},
   "source": [
    "# 3 solution:"
   ]
  },
  {
   "cell_type": "code",
   "execution_count": 3,
   "id": "0aafa984-4bb4-4930-af44-c96941ca3e48",
   "metadata": {},
   "outputs": [
    {
     "data": {
      "text/plain": [
       "('1', '2', '3', '4', '5', '6', '7', '8', '9', '10')"
      ]
     },
     "execution_count": 3,
     "metadata": {},
     "output_type": "execute_result"
    }
   ],
   "source": [
    "# Program to convert the given list of integers into a tuple of strings using map and lambda functions:\n",
    "\n",
    "lst2 = [1,2,3,4,5,6,7,8,9,10]\n",
    "\n",
    "tuple(map(lambda x: str(x), lst2))"
   ]
  },
  {
   "cell_type": "markdown",
   "id": "5c1e2f2f-6393-4c41-9e2d-b13afb169ffe",
   "metadata": {},
   "source": [
    "# 4 solution:"
   ]
  },
  {
   "cell_type": "code",
   "execution_count": 4,
   "id": "ea01c543-fa97-46ff-9e18-744b9a7c147b",
   "metadata": {},
   "outputs": [],
   "source": [
    "from functools import reduce"
   ]
  },
  {
   "cell_type": "code",
   "execution_count": 5,
   "id": "c3b9678b-1989-4522-8e54-ffe436d74308",
   "metadata": {},
   "outputs": [
    {
     "data": {
      "text/plain": [
       "15511210043330985984000000"
      ]
     },
     "execution_count": 5,
     "metadata": {},
     "output_type": "execute_result"
    }
   ],
   "source": [
    "# Program using reduce function to compute the product of a list containing numbers from 1 to 25:\n",
    "\n",
    "lst3 = [1,2,3,4,5,6,7,8,9,10,11,12,13,14,15,16,17,18,19,20,21,22,23,24,25]\n",
    "\n",
    "reduce(lambda x,y: x*y, lst3)"
   ]
  },
  {
   "cell_type": "markdown",
   "id": "ccdf43ee-d513-4f80-a078-b798f31a6e34",
   "metadata": {},
   "source": [
    "# 5 solution:"
   ]
  },
  {
   "cell_type": "code",
   "execution_count": 6,
   "id": "f20c7351-c453-4ebc-b3b2-fc2447cbf33a",
   "metadata": {},
   "outputs": [
    {
     "data": {
      "text/plain": [
       "[6, 60, 90, 120]"
      ]
     },
     "execution_count": 6,
     "metadata": {},
     "output_type": "execute_result"
    }
   ],
   "source": [
    "# Program to filter the numbers in a given list that are divisible by 2 and 3 using the filter function:\n",
    "\n",
    "lst4 = [2,3,6,9,27,60,90,120,55,46]\n",
    "\n",
    "list(filter(lambda x:x%2==0 and x%3==0, lst4))"
   ]
  },
  {
   "cell_type": "markdown",
   "id": "97030a04-4523-4d5a-ae32-9cd53143ac42",
   "metadata": {},
   "source": [
    "# 6 solution:"
   ]
  },
  {
   "cell_type": "code",
   "execution_count": 7,
   "id": "86373d6d-0ace-4858-95b5-c9fce2c5b1b3",
   "metadata": {},
   "outputs": [
    {
     "data": {
      "text/plain": [
       "['php', 'aba', 'radar', 'level']"
      ]
     },
     "execution_count": 7,
     "metadata": {},
     "output_type": "execute_result"
    }
   ],
   "source": [
    "# Program to find palindromes in the given list of strings using lambda and filter functions:\n",
    "\n",
    "lst5 = ['python','php','aba','radar','level']\n",
    "\n",
    "list(filter(lambda x: x == x[::-1], lst5))"
   ]
  },
  {
   "cell_type": "code",
   "execution_count": null,
   "id": "777fc4b1-27f0-47a4-8b4b-630cd9f8e253",
   "metadata": {},
   "outputs": [],
   "source": []
  }
 ],
 "metadata": {
  "kernelspec": {
   "display_name": "Python 3 (ipykernel)",
   "language": "python",
   "name": "python3"
  },
  "language_info": {
   "codemirror_mode": {
    "name": "ipython",
    "version": 3
   },
   "file_extension": ".py",
   "mimetype": "text/x-python",
   "name": "python",
   "nbconvert_exporter": "python",
   "pygments_lexer": "ipython3",
   "version": "3.10.8"
  }
 },
 "nbformat": 4,
 "nbformat_minor": 5
}
